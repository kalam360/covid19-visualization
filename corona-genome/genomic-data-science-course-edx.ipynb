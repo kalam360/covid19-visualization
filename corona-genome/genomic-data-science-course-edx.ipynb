{
 "cells": [
  {
   "cell_type": "code",
   "execution_count": 1,
   "metadata": {},
   "outputs": [],
   "source": [
    "# The gold bug, short story by Edgar Allan Poe\n",
    "# Problem: how to find a K-mers in genome, sliding a 5 letter frequency of letters in string\n",
    "# https://bioinformatics.uconn.edu/genome-size-estimation-tutorial/\n",
    "# need to understand hidden makov model. ??\n",
    "# rosalind problem challenge website\n",
    "# problem solving\n",
    "# L-t clump\n",
    "# gc content measure\n",
    "# "
   ]
  },
  {
   "cell_type": "code",
   "execution_count": null,
   "metadata": {},
   "outputs": [],
   "source": [
    "# structure understanding -- https://www.youtube.com/watch?v=o_-6JXLYS-k\n",
    "# columbia university virology course -- https://www.youtube.com/watch?v=mdYTi6yT1Ew\n",
    "# how scientist determine chemical structure of matters or biological substances like dna, penicilin etc.\n",
    "# "
   ]
  },
  {
   "cell_type": "code",
   "execution_count": 1,
   "metadata": {},
   "outputs": [],
   "source": [
    "# to run local blast you need to install blast for local pc.\n",
    "# from https://ftp.ncbi.nlm.nih.gov/blast/executables/LATEST/\n",
    "# \"MN90894\n",
    "# MK062179\t2018-11-21\tSevere acute re…\t29727\tUSA\tHomo sapiens\t\t2017-05-27\n",
    "# NC_014373 ebola \n",
    "# KU922529 h1n1"
   ]
  },
  {
   "cell_type": "code",
   "execution_count": null,
   "metadata": {},
   "outputs": [],
   "source": []
  }
 ],
 "metadata": {
  "kernelspec": {
   "display_name": "Python 3",
   "language": "python",
   "name": "python3"
  },
  "language_info": {
   "codemirror_mode": {
    "name": "ipython",
    "version": 3
   },
   "file_extension": ".py",
   "mimetype": "text/x-python",
   "name": "python",
   "nbconvert_exporter": "python",
   "pygments_lexer": "ipython3",
   "version": "3.7.4"
  }
 },
 "nbformat": 4,
 "nbformat_minor": 4
}
