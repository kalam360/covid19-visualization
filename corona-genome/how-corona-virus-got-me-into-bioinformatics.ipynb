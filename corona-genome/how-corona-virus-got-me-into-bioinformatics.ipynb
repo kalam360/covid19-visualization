{
 "cells": [
  {
   "cell_type": "markdown",
   "metadata": {},
   "source": [
    "# How Corona Virus Pandemic Got Me Into Bioinformatics"
   ]
  },
  {
   "cell_type": "markdown",
   "metadata": {},
   "source": [
    "I knew nothing about bioinformatics till now apart from its a field in biology that deals with genetic codes in organisms. As all the activities are at stop now due to the corona virus pandemic. I had some time to waste. Well if you waste your time learning then its not wasted time, right? So, I went on to learn about corona virus. Internet is the oracle of information. Google is the key. Well this new virus originated from Wuhan, China. It transmitted from bats to human in the wild animal markets. This is not the first time some virus from other animal mutated to infect humans. Eating wild animals is very popular in China as well as other Southeast Asian countries. There is a global movement to close down these wild animal markets, but they work through mob. So, Closing them is not so easy even if China banned them officially. [You can watch the documentary here.](https://www.youtube.com/watch?v=Y7nZ4mw4mXw) At first, The Wuhan virus (first they didn't know of the type of virus it is, so they gave a location based naming) only transmitted from bats to humans, but soon it mutated to transmit from human to human. Wuhan went into lockdown. China sequenced the virus' complete genome and send it to rest of the world to work on the vaccine. They recognized it's form of 'Corona Virus' which is common in humans that causes seasonal flu. But its more leathal than seasonal flu virus. Where only 0.1% people die of seasonal flu, this virus kills at least 1-2% people. \n"
   ]
  },
  {
   "cell_type": "markdown",
   "metadata": {},
   "source": [
    "At this point I had some questions that needed solving. \n",
    "- **Whats in the genome; How did they sequence the genome of the virus.**\n",
    "- **How did they know its similar to other Corona virus'.**\n",
    "- **How to analyze it or what it tell us about the virus**"
   ]
  },
  {
   "cell_type": "markdown",
   "metadata": {},
   "source": [
    "## Genome; How to sequence it"
   ]
  },
  {
   "cell_type": "markdown",
   "metadata": {},
   "source": [
    "From intermediate biology, I knew every living oranisms have their genetic material in the cell called DNA or sometimes RNA. Segments of DNA or RNA is called gene that regulates certain traits in the organisms. And in reproduction it passes down to the offspring. Thats why children gets the some traits from their parents. Its called heredity. and all those readings about Mendel and his discoveries with those pea plants. I knew modern science we can sequence the genes. There was a billion dollar project to sequence human genome. We have around 3 billion of code in our genome. Some months earlier a bangladeshi scientist sequenced the genome of jute. And some information here and there. But nothing concrete. Now its time to dig deep. "
   ]
  },
  {
   "cell_type": "markdown",
   "metadata": {},
   "source": [
    "You can get the information from some google searches and wikipedia. Here I will only talk about the things thats needed. Genome of any living organisms (theres debate whether virus is living or not you can google about it) consists of four [nucleotides](https://en.wikipedia.org/wiki/Nucleotide) molecule. These are Adenine (A), Cytosine (C), Guanine(G), and Thymine(T). Sometimes Thymine is replaced with Uracil(U). These nucleotides joins together one after one in a long chain, as in human its 3 billions long. This chain is called the genome. [This video will help to understand the structure of DNA](https://www.youtube.com/watch?v=o_-6JXLYS-k)"
   ]
  },
  {
   "cell_type": "markdown",
   "metadata": {},
   "source": [
    "So, How do they sequence this tiny series of molecules? These two videos describes the process flow where I got the gist of it. [How to sequence human genome](https://www.youtube.com/watch?v=MvuYATh7Y74&t=15s) and [DNA Sequencing](https://www.youtube.com/watch?v=ONGdehkB8jU). I wanted to know what happens in a laboratory setting. [This video helped me](https://www.youtube.com/watch?v=KfyAwAtyUQE). After all the process a sequenced genome look like this. \n",
    "\n",
    "'CTGTGGCCCTGATGGCTACCCTCTTGAGTGCATTAAAGACCTTCTAGCACGTGCTGGTAAAGCTTCATGC'"
   ]
  },
  {
   "cell_type": "markdown",
   "metadata": {},
   "source": [
    "Lets see the genome of Wuhan virus now. You can go to this [link](https://www.ncbi.nlm.nih.gov/nuccore/MN908947). Copy the genome from the gene bank site and after some processing we will get the sequence that we can work on. First we copied the code in this [ file](SARS-Cov-2-genome-genebank-MN908947.3.txt). I will use python process and analyze the genome. Lets import and get on with it."
   ]
  },
  {
   "cell_type": "code",
   "execution_count": 1,
   "metadata": {},
   "outputs": [
    {
     "name": "stdout",
     "output_type": "stream",
     "text": [
      "        1 attaaaggtt tataccttcc caggtaacaa accaaccaac tttcgatctc ttgtagatct\n",
      "       61 gttctctaaa cgaactttaa aatctgtgtg gctgtcactc ggctgcatgc ttagtgcact\n",
      "      121 cacgcagtat aattaataac taattactgt cgttgacagg acacgagtaa ctcgtctatc\n",
      "      181 ttctgcaggc tgcttacggt ttcgtccgtg ttgcagccga tcatcagcac atctaggttt\n",
      "      241 cgtccgggtg tgaccgaaag gtaagatgga gagccttgtc cctggtttca acgagaaaac\n",
      "      301 acacgtccaa ctcagtttgc ctgttttaca ggttcgcgac gtgctcgtac gtggctttgg\n",
      "      361 agactccgtg gaggaggtct tatcagaggc acgtcaacat cttaaagatg gcacttgtgg\n",
      "      421 cttagtagaa gttgaaaaag gcgttttgcc tcaacttgaa cagccctatg tgttcatcaa\n",
      "      481 acgttcggat gctcgaactg cacctcatgg tcatgttatg gttgagctgg tagcagaact\n",
      "      541 cgaaggcatt cagtacggtc gtagtggtga gacacttggt gtccttgtcc ctcatgtggg\n",
      "      601 cgaaatacca gtggcttacc gcaaggttct tcttcgtaag aacggtaata aaggagctgg\n",
      "      661 tggccatagt tacggcgccg atctaaagtc atttgactta ggcgacgagc ttggcactga\n",
      "      721 tccttatgaa gattttcaag aaaactggaa cactaaacat agcagtggtg ttacccgtga\n",
      "      781 ac\n"
     ]
    }
   ],
   "source": [
    "# opening the genome file\n",
    "genome = open(\"SARS-Cov-2-genome-genebank-MN908947.3.txt\", \"r\").read()\n",
    "# showing only the first 1000 letter\n",
    "print(genome[:1000])"
   ]
  },
  {
   "cell_type": "code",
   "execution_count": 2,
   "metadata": {},
   "outputs": [
    {
     "name": "stdout",
     "output_type": "stream",
     "text": [
      "attaaaggtttataccttcccaggtaacaaaccaaccaactttcgatctcttgtagatctgttctctaaacgaactttaaaatctgtgtggctgtcactcggctgcatgcttagtgcactcacgcagtataattaataactaattactgtcgttgacaggacacgagtaactcgtctatcttctgcaggctgcttacggtttcgtccgtgttgcagccgatcatcagcacatctaggtttcgtccgggtgtgaccgaaaggtaagatggagagccttgtccctggtttcaacgagaaaacacacgtccaactcagtttgcctgttttacaggttcgcgacgtgctcgtacgtggctttggagactccgtggaggaggtcttatcagaggcacgtcaacatcttaaagatggcacttgtggcttagtagaagttgaaaaaggcgttttgcctcaacttgaacagccctatgtgttcatcaaacgttcggatgctcgaactgcacctcatggtcatgttatggttgagctggtagcagaactcgaaggcattcagtacggtcgtagtggtgagacacttggtgtccttgtccctcatgtgggcgaaataccagtggcttaccgcaaggttcttcttcgtaagaacggtaataaaggagctggtggccatagttacggcgccgatctaaagtcatttgacttaggcgacgagcttggcactgatccttatgaagattttcaagaaaactggaacactaaacatagcagtggtgttacccgtgaactcatgcgtgagcttaacggaggggcatacactcgctatgtcgataacaacttctgtggccctgatggctaccctcttgagtgcattaaagaccttctagcacgtgctggtaaagcttcatgcactttgtccgaacaactggactttattgacactaagaggggtgtatactgctgccgtgaacatgagcatgaaattgcttggtacacggaacgttct\n",
      "\n",
      " length of the genome: 29903\n"
     ]
    }
   ],
   "source": [
    "# we need to remove the numbers and white spaces between the letters \n",
    "for x in \" 0123456789\\n\":\n",
    "    genome = genome.replace(x, \"\")\n",
    "print(genome[:1000]) \n",
    "# the length of the genome\n",
    "print(\"\\n length of the genome: \"+ str(len(genome)))"
   ]
  },
  {
   "cell_type": "markdown",
   "metadata": {},
   "source": [
    "Well the genome has **29903** number of nucleotides in the sequence. You can google and match it with the other sources. "
   ]
  },
  {
   "cell_type": "code",
   "execution_count": 3,
   "metadata": {},
   "outputs": [
    {
     "name": "stdout",
     "output_type": "stream",
     "text": [
      "{'a', 'c', 'g', 't'}\n"
     ]
    }
   ],
   "source": [
    "# checking if the string consist only the \"atcg\" no other letters and assign as the nucleotides\n",
    "nucleotides = set(genome)\n",
    "print(nucleotides)"
   ]
  },
  {
   "cell_type": "markdown",
   "metadata": {},
   "source": [
    "At this stage I want to know some basic statistics of the sequence. Like how many \"A\", \"T\", \"C\" and \"G\" are there. Their percentage. "
   ]
  },
  {
   "cell_type": "code",
   "execution_count": 4,
   "metadata": {},
   "outputs": [
    {
     "name": "stdout",
     "output_type": "stream",
     "text": [
      "Number of each Nucleotides in the sequence: {'a': 8954, 'c': 5492, 'g': 5863, 't': 9594}\n",
      "Percentage of each Nucleotides in the sequence: {'a': '29.94%', 'c': '18.37%', 'g': '19.61%', 't': '32.08%'}\n",
      "sum of all: 29903\n"
     ]
    }
   ],
   "source": [
    "# Counting each nucleotide in the sequence\n",
    "# creating a counter dictionary from the nucleotide set\n",
    "counter = dict.fromkeys(nucleotides, 0)\n",
    "\n",
    "# counting how many of each nucleotides are there\n",
    "for i in genome:\n",
    "    counter[i] = counter[i] +1 \n",
    "\n",
    "print(\"Number of each Nucleotides in the sequence: \" + str(counter))\n",
    "\n",
    "# sum of all the nucleotides number is equal to the total number\n",
    "length = 0\n",
    "percentage = {}\n",
    "for i in counter:\n",
    "    length = length + counter[i]\n",
    "    percentage[i] = str(round(counter[i]/len(genome)*100, 2))+\"%\"\n",
    "\n",
    "    \n",
    "print(\"Percentage of each Nucleotides in the sequence: \" + str(percentage))\n",
    "print(\"sum of all: \" + str(length))"
   ]
  },
  {
   "cell_type": "markdown",
   "metadata": {},
   "source": [
    "Now I don't know what else to do with the genome. But there can be some improvements made to the process of getting the genomic data. Here I did it manually. While looking through the data sources, I saw only few has the Genome data. Usually researchers of various laboratory sequences the genome and then send it to some genome data storing organizations. They store it and make it available for other researcher to access it. This [article](https://www.yourgenome.org/facts/how-are-sequenced-genomes-stored-and-shared) describes the process and oranizations involve in genomic data storage. Each data store has their tools to sort and search those data. \n",
    "\n"
   ]
  },
  {
   "cell_type": "markdown",
   "metadata": {},
   "source": [
    "### Getting the genome data automatically"
   ]
  },
  {
   "cell_type": "markdown",
   "metadata": {},
   "source": [
    "Now we will try to automate the process of getting the genomic data from those data sources. There is a good python library for bioinformatics called **Biopython**. We will use it to load data and do some basic analysis to understand the capabilities of the library. "
   ]
  },
  {
   "cell_type": "code",
   "execution_count": 5,
   "metadata": {},
   "outputs": [],
   "source": [
    "# importing some utility module\n",
    "from pprint import pprint as print\n",
    "\n",
    "# importing the Entrez module from the Biopython library\n",
    "from Bio import Entrez\n",
    "# you need to setup email address to the Entreze module\n",
    "Entrez.email = \"abulkalamfaruk@gmail.com\""
   ]
  },
  {
   "cell_type": "markdown",
   "metadata": {},
   "source": [
    "There are two helper function in python for helping to use any library. **dir()** function is used to know the modules and function inside any library and **help()** function is there to know the arguments and usage of the function. Also in jupyter notebook there is a hack for help(). you just have to put a \"?\" mark after the function to view the help. "
   ]
  },
  {
   "cell_type": "markdown",
   "metadata": {},
   "source": [
    "For the getting the genome data from the gene banks we need to use ***efetch()*** from the **Entrez** module. As argument to the function we need, which database to access which is nucleotide database **(db=\"nucleotide\")**, **'id'** is the most important argument to put. If you go to any data sources online for gene information. for each genome you will get an ***accession number***. This accession number is the **id** in the *efecth* function. For our case its *MN908947*"
   ]
  },
  {
   "cell_type": "markdown",
   "metadata": {},
   "source": [
    "There are two important **rettype** as in file type of genomic data. One is FASTA format and the other is GENE BANK (gb) format. You can learn about those formats from [here](https://www.genomatix.de/online_help/help/sequence_formats.html). For our case we would use FASTA format. "
   ]
  },
  {
   "cell_type": "code",
   "execution_count": 6,
   "metadata": {},
   "outputs": [
    {
     "name": "stdout",
     "output_type": "stream",
     "text": [
      "'attaaaggtttataccttcccaggtaacaaaccaaccaactttcgatctcttgtagatctgttctctaaacgaactttaaaatctgtgtggctgtcactcggctgcatgcttagtgcactcacgcagtataattaataactaattactgtcgttgacaggacacgagtaactcgtctatcttctgcaggctgcttacggtttcgtccgtgttgcagccgatcatcagcacatctaggtttcgtccgggtgtgaccgaaaggtaagatggagagccttgtccctggtttcaacgagaaaacacacgtccaactcagtttgcctgttttacaggttcgcgacgtgctcgtacgtggctttggagactccgtggaggaggtcttatcagaggcacgtcaacatcttaaagatggcacttgtggcttagtagaagttgaaaaaggcgttttgcctcaacttgaacagccctatgtgttcatcaaacgttcggatgctcgaactgcacctcatggtcatgttatggttgagctggtagcagaactcgaaggcattcagtacggtcgtagtggtgagacacttggtgtccttgtccctcatgtgggcgaaataccagtggcttaccgcaaggttcttcttcgtaagaacggtaataaaggagctggtggccatagttacggcgccgatctaaagtcatttgacttaggcgacgagcttggcactgatccttatgaagattttcaagaaaactggaacactaaacatagcagtggtgttacccgtgaactcatgcgtgagcttaacggaggggcatacactcgctatgtcgataacaacttctgtggccctgatggctaccctcttgagtgcattaaagaccttctagcacgtgctggtaaagcttcatgcactttgtccgaacaactggactttattgacactaagaggggtgtatactgctgccgtgaacatgagcatgaaattgcttggtacacggaacgttct'\n"
     ]
    }
   ],
   "source": [
    "# getting the data from data bank\n",
    "covid_fasta = Entrez.efetch(db=\"nucleotide\", id=\"MN908947\", rettype=\"fasta\", retmode=\"text\")\n",
    "covid_genome = covid_fasta.read().split(\"\\n\")[1:]\n",
    "covid_genome = \"\".join(covid_genome).lower()\n",
    "print(covid_genome[:1000])"
   ]
  },
  {
   "cell_type": "code",
   "execution_count": 7,
   "metadata": {},
   "outputs": [
    {
     "name": "stdout",
     "output_type": "stream",
     "text": [
      "'Length of the genome: 29903'\n"
     ]
    }
   ],
   "source": [
    "# Checking the length to match the previous result\n",
    "print(\"Length of the genome: \" +str(len(covid_genome)))"
   ]
  },
  {
   "cell_type": "markdown",
   "metadata": {},
   "source": [
    "## How did they know its similar to  Coronavirus family"
   ]
  },
  {
   "cell_type": "markdown",
   "metadata": {},
   "source": [
    "So, the genome is sequenced now. or you can get any genome data from the NCBI database. But one of the important task when finding new virus is that what type of virus it is. The classification of virus doesn't follow the other life classification. It is done by simmilarities in its genome. For this there is an algorithm/tool. [BLAST](https://en.wikipedia.org/wiki/BLAST_(biotechnology)) or Basic Local Alignment Search Tool is used to match genomic sequence to the previous databases to see if the similarities found. There is a [online version of the tool](https://blast.ncbi.nlm.nih.gov/Blast.cgi) in the NCBI site where you can blast various genome. You can download it in the desktop too to use it in the command line. you can download the executables from [here](https://ftp.ncbi.nlm.nih.gov/blast/executables/blast+/). The instructions can be found [here](https://www.ncbi.nlm.nih.gov/books/NBK279671/)"
   ]
  },
  {
   "cell_type": "markdown",
   "metadata": {},
   "source": [
    "I am using Biopython package to access the NCBI Blast tool. I have matched our virus to SARS virus from the genebank accession number. It is sequenced in 2017 in USA. I created a function to do the Blast search between two sequence from the accession number. \n",
    "- query genome is \"MN908947\" wuhan virus\n",
    "- subject to search is \"MK062179\" sars virus"
   ]
  },
  {
   "cell_type": "markdown",
   "metadata": {},
   "source": [
    "There can be whole database search which takes some time to finish. Or you can search between two sequence. Here I searched only two sequence. In the result the its important to see the \"e value\". The lower the e value the better the match. Here our e value is zero. So, Wuhan virus is quite similar to the SARS virus. "
   ]
  },
  {
   "cell_type": "code",
   "execution_count": 9,
   "metadata": {},
   "outputs": [],
   "source": [
    "import Bio\n",
    "from Bio import SeqIO\n",
    "from Bio.Blast import NCBIWWW, NCBIXML\n",
    "from Bio.Blast.Applications import NcbiblastnCommandline\n",
    "from Bio.SeqRecord import SeqRecord\n",
    "from io import StringIO"
   ]
  },
  {
   "cell_type": "code",
   "execution_count": 36,
   "metadata": {},
   "outputs": [],
   "source": [
    "def blast_two_accession(a, b):\n",
    "    for each in [a,b]:\n",
    "        fasta = Entrez.efetch(db=\"nucleotide\", id=each, rettype=\"fasta\", retmode=\"text\")\n",
    "        query = SeqRecord(SeqIO.read(fasta, \"fasta\").seq, id= each)\n",
    "        SeqIO.write(query, (each +\".fasta\"), \"fasta\")\n",
    "        fasta.close()\n",
    "    output = NcbiblastnCommandline(query= (a+\".fasta\"), subject= (b+ \".fasta\"), outfmt=5)()[0]\n",
    "    blast_result_record = NCBIXML.read(StringIO(output))\n",
    "    for alignment in blast_result_record.alignments:\n",
    "        for hsp in alignment.hsps:\n",
    "            print('****Alignment****')\n",
    "            print('sequence:' + str(alignment.title))\n",
    "            print ('length:'+ str(alignment.length))\n",
    "            print( 'e value:'+str(hsp.expect))  "
   ]
  },
  {
   "cell_type": "code",
   "execution_count": 37,
   "metadata": {},
   "outputs": [
    {
     "name": "stdout",
     "output_type": "stream",
     "text": [
      "'****Alignment****'\n",
      "'sequence:MK062179 MK062179 <unknown description>'\n",
      "'length:29727'\n",
      "'e value:0.0'\n",
      "'****Alignment****'\n",
      "'sequence:MK062179 MK062179 <unknown description>'\n",
      "'length:29727'\n",
      "'e value:0.0'\n",
      "'****Alignment****'\n",
      "'sequence:MK062179 MK062179 <unknown description>'\n",
      "'length:29727'\n",
      "'e value:0.0'\n",
      "'****Alignment****'\n",
      "'sequence:MK062179 MK062179 <unknown description>'\n",
      "'length:29727'\n",
      "'e value:0.0'\n"
     ]
    }
   ],
   "source": [
    "blast_two_accession(\"MN908947\",\"MK062179\" )"
   ]
  },
  {
   "cell_type": "code",
   "execution_count": 39,
   "metadata": {},
   "outputs": [],
   "source": [
    "blast_two_accession(\"MN908947\",\"KF600628\" )"
   ]
  },
  {
   "cell_type": "markdown",
   "metadata": {},
   "source": [
    "## How to analyze it or what it tell us about the virus"
   ]
  },
  {
   "cell_type": "markdown",
   "metadata": {},
   "source": [
    "Now its time to decode the genome of Corona Virus(SARS-CoV2). But first some basic understanding of molecular biology is required. Mainly what does the genome/code actually do in the cell/organism. Well they are the blueprint of protein. A sequence of nucleotides sometimes knowns as gene corresponds to certain amino acid and a chain of these amino acid forms into peptide chain also knows as protein thats necessary for certain function in organism. In short genome is the blueprint to produce protein in organism. To understand more about it you can watch [this video.](https://www.youtube.com/watch?v=wvTv8TqWC48). There are 20 different amino acids that can be found in living organisms. Various chained structure of these amino acids forms various protein structure. How the genomic code transfers into protein, [this video](https://www.youtube.com/watch?v=gG7uCskUOrA&t) is good to understand."
   ]
  },
  {
   "cell_type": "markdown",
   "metadata": {},
   "source": [
    "Transcription and Translation are two process in the pipeline of building protein in organisms. This [article from Khan academy ](https://www.khanacademy.org/science/high-school-biology/hs-molecular-genetics/hs-rna-and-protein-synthesis/a/intro-to-gene-expression-central-dogma) is good resource to understand the expression in molecular biology and the process of translation and transcription. Now we will try to translate our genome into decoded protein chain. For translation, we need a decoder to figure out the cipher in the genomic sequence. The decoder is called **codon**. The translation process can be understood by [this article](https://www.khanacademy.org/science/biology/gene-expression-central-dogma/translation-polypeptides/a/translation-overview). The codon table is follwoing. ![Codon](https://cdn.kastatic.org/ka-perseus-images/f5de6355003ee322782b26404ef0733a1d1a61b0.png)"
   ]
  },
  {
   "cell_type": "markdown",
   "metadata": {},
   "source": [
    "Three letters in genome corresponds to a single amino acid out of 20. From the table we can get a codon collection that can be used to decode the genome of Corona Virus. Following table is taken from wikipedia. After some cleanup. A collection of amino acid and codon is generated to use in translation process. "
   ]
  },
  {
   "cell_type": "code",
   "execution_count": 40,
   "metadata": {},
   "outputs": [],
   "source": [
    "codon = \"\"\"Ala / A\tGCU, GCC, GCA, GCG\n",
    "Ile / I\tAUU, AUC, AUA\n",
    "Arg / R\tCGU, CGC, CGA, CGG; AGA, AGG\n",
    "Leu / L\tCUU, CUC, CUA, CUG; UUA, UUG\n",
    "Asn / N\tAAU, AAC\n",
    "Lys / K\tAAA, AAG\n",
    "Asp / D\tGAU, GAC\n",
    "Met / M\tAUG\n",
    "Phe / F\tUUU, UUC\n",
    "Cys / C\tUGU, UGC\n",
    "Pro / P\tCCU, CCC, CCA, CCG\n",
    "Gln / Q\tCAA, CAG\n",
    "Ser / S\tUCU, UCC, UCA, UCG; AGU, AGC\n",
    "Glu / E\tGAA, GAG\n",
    "Thr / T\tACU, ACC, ACA, ACG\n",
    "Trp / W\tUGG\n",
    "Gly / G\tGGU, GGC, GGA, GGG\n",
    "Tyr / Y\tUAU, UAC\n",
    "His / H\tCAU, CAC\n",
    "Val / V\tGUU, GUC, GUA, GUG\n",
    "STOP\tUAA, UGA, UAG\"\"\".strip()"
   ]
  },
  {
   "cell_type": "code",
   "execution_count": 50,
   "metadata": {},
   "outputs": [],
   "source": [
    "code = {}\n",
    "for each in codon.split(\"\\n\"):\n",
    "    a,b = each.split(\"\\t\")\n",
    "    if \"/\" in a:\n",
    "        a = a.split(\"/\")[1]\n",
    "    b = b.replace(\" \", \"\").replace(\";\", \",\").split(\",\")\n",
    "    for bb in b:\n",
    "        code[bb] = a"
   ]
  },
  {
   "cell_type": "markdown",
   "metadata": {},
   "source": [
    "Now lets split the genome in tiplets. But where to start. We can start from first, second or third letter. As the first 6 letters in the genome are \"attaaa\". We can divide into three from \"a\", \"t\" or second \"t\". All of them can be a possible message. So we will take all three. these are called reading frame. And the first one is Open Reading Frame. You can learn more about reading frame [here](https://en.wikipedia.org/wiki/Reading_frame)"
   ]
  },
  {
   "cell_type": "code",
   "execution_count": 61,
   "metadata": {},
   "outputs": [],
   "source": [
    "amino_acid= []\n",
    "for r in range(3):\n",
    "    for i in range(r, len(covid_genome)-3, 3):\n",
    "        gen = covid_genome.upper().replace(\"T\", \"U\")\n",
    "        amino_acid.append(code[gen[i:i+3]])\n",
    "amino_acid = \"\".join(amino_acid).replace(\" \", \"\" )"
   ]
  },
  {
   "cell_type": "code",
   "execution_count": 70,
   "metadata": {},
   "outputs": [
    {
     "name": "stdout",
     "output_type": "stream",
     "text": [
      "('First 1000 Amino Acid Sequence: '\n",
      " 'IKGLYLPRSTOPQTNQLSISCRSVLSTOPTNFKICVAVTRLHASTOPCTHAVSTOPLITNYCRSTOPQDTSNSSIFCRLLTVSSVLQPIISTSRFRPGVTERSTOPDGEPCPWFQRENTRPTQFACFTGSRRARTWLWRLRGGGLIRGTSTSSTOPRWHLWLSRSSTOPKRRFASTSTOPTALCVHQTFGCSNCTSWSCYGSTOPAGSRTRRHSVRSSTOPWSTOPDTWCPCPSCGRNTSGLPQGSSSSTOPERSTOPSTOPRSWWPSTOPLRRRSKVISTOPLRRRAWHSTOPSLSTOPRFSRKLEHSTOPTSTOPQWCYPSTOPTHASTOPASTOPRRGIHSLCRSTOPQLLWPSTOPWLPSSTOPVHSTOPRPSSTCWSTOPSFMHFVRTTGLYSTOPHSTOPEGCILLPSTOPTSTOPASTOPNCLVHGTFSTOPKELSTOPIADTFSTOPNSTOPIGKEISTOPHLQWGMSKFCISLKFHNQDYSTKGSTOPKEKASTOPWLYGSTOPNSICLSSCVTKSTOPMQPNVPFNSHEVSTOPSLWSTOPNFMADGRFCSTOPSHLRILWHSTOPEFDSTOPRRCHYLWLLTPKCCCSTOPNLLSSMSQFRSRTSTOPASTOPSCRIPSTOPSTOPIWLENHSSSTOPGWSHYCLWRLCVLLCWLPSTOPQVCLLGSTCSTOPRSTOPHRLSTOPPYRCCWRRFRRSSTOPSTOPQPSSTOPNTPKRESQHQYCWSTOPLSTOPTSTOPSTOPRDRHYFGIFFCFHKCFCGNCERFGLSTOPSIQTNCSTOPILWSTOPFSTOPSYKRKSSTOPKRCLEYWSTOPTEINTESSLCICIRGCSCCTINFLPHSSTOPNCSKFCACFTEGRYNNTRWNFTVFTETHSTOPCYDVHISTOPFGYSTOPQSSCNGLHYRWCCSVDFAVANSTOPHLWHCLSTOPKTQTRPSTOPLASTOPREVSTOPGRCRVSSTOPRRLGNCSTOPIYLNLCLSTOPNCRWT')\n"
     ]
    }
   ],
   "source": [
    "print(\"First 1000 Amino Acid Sequence: \"+ amino_acid[:1000])"
   ]
  },
  {
   "cell_type": "markdown",
   "metadata": {},
   "source": [
    "Now before spliting the peptide chains I got the gene bank data for the genes related to each type of protein in SARS-Cov-2 virus. I used efetch function to get the data from the ncbi nucleotide database. as rettype I gave gb as genebank format. Then I did some parsing to get only the peptide chain from the file. There are 10 peptide chain / gene in the genome. These will be used to compare our own spliting data. "
   ]
  },
  {
   "cell_type": "code",
   "execution_count": 139,
   "metadata": {},
   "outputs": [],
   "source": [
    "genebank = Entrez.efetch(db=\"nucleotide\", id=\"MN908947\", rettype=\"gb\", retmode=\"text\").read()"
   ]
  },
  {
   "cell_type": "code",
   "execution_count": 140,
   "metadata": {},
   "outputs": [
    {
     "name": "stdout",
     "output_type": "stream",
     "text": [
      "'Number of gene: 10'\n"
     ]
    }
   ],
   "source": [
    "protein_gb = []\n",
    "for each in genebank.split(\"3'UTR\")[0].split(\"/translation=\")[1:]:\n",
    "    pep = each.split(\"gene\", 1)[0].replace(\"\\n\", \"\").replace(\" \", \"\").replace(\"\\\"\", \"\")\n",
    "    protein_gb.append(pep)\n",
    "print(\"Number of gene: \" + str(len(protein_gb)))"
   ]
  },
  {
   "cell_type": "markdown",
   "metadata": {},
   "source": [
    "In the amino acid sequence there are 20 acid letters and \"STOP\" is there. But for splitting some information is important regarding the chain. \n",
    "- \"Methionine/ Met\" or the letter \"M\" is the start code for any peptide chain. Almost all the protein chain starts with \"M\"\n",
    "- \"STOP\" is used to stop any peptides sequence. \n",
    "- Sometimes multiple sequence is added and combined to produce a new peptide sequence. \n",
    "- \"M\" Can be found in the middle too. \n",
    "\n",
    "I still have questions which \"M\" I should start. Thats also a learning scope. lets now just get on with it. For initial test we would take for each stop segments, start would be the first M and the second M. Then take all in our possible peptide chain."
   ]
  },
  {
   "cell_type": "code",
   "execution_count": 195,
   "metadata": {},
   "outputs": [],
   "source": [
    "pep_ch = []\n",
    "for each in amino_acid.split(\"STOP\"):\n",
    "    if \"M\" in each:\n",
    "        pp = each.split(\"M\",1)[1]\n",
    "        pep_ch.append(\"M\" + pp)\n",
    "        if \"M\" in pp:\n",
    "            pep_ch.append(\"M\"+ pp.split(\"M\", 1)[1])\n",
    "        \n",
    "# first filtered all those chain with less than 35 acids, then removed the duplicates with set() then sorted the list        \n",
    "pep_ch = sorted(set((list(filter(lambda x: len(x) > 35, pep_ch)))), key=len)"
   ]
  },
  {
   "cell_type": "markdown",
   "metadata": {},
   "source": [
    "From the data from the genebank we will match if those matches with our spliting. I have found that 9 out of 10 of the gene chain is matched with the gene bank data. Now lets see which one didn't matched. Only one chain didn't matched. probly because that is a combination of two peptide chain combined and mixed. "
   ]
  },
  {
   "cell_type": "code",
   "execution_count": 198,
   "metadata": {},
   "outputs": [
    {
     "name": "stdout",
     "output_type": "stream",
     "text": [
      "'Matched genes: 9'\n",
      "('Unmatched genes: '\n",
      " \"['MESLVPGFNEKTHVQLSLPVLQVRDVLVRGFGDSVEEVLSEARQHLKDGTCGLVEVEKGVLPQLEQPYVFIKRSDARTAPHGHVMVELVAELEGIQYGRSGETLGVLVPHVGEIPVAYRKVLLRKNGNKGAGGHSYGADLKSFDLGDELGTDPYEDFQENWNTKHSSGVTRELMRELNGGAYTRYVDNNFCGPDGYPLECIKDLLARAGKASCTLSEQLDFIDTKRGVYCCREHEHEIAWYTERSEKSYELQTPFEIKLAKKFDTFNGECPNFVFPLNSIIKTIQPRVEKKKLDGFMGRIRSVYPVASPNECNQMCLSTLMKCDHCGETSWQTGDFVKATCEFCGTENLTKEGATTCGYLPQNAVVKIYCPACHNSEVGPEHSLAEYHNESGLKTILRKGGRTIAFGGCVFSYVGCHNKCAYWVPRASANIGCNHTGVVGEGSEGLNDNLLEILQKEKVNINIVGDFKLNEEIAIILASFSASTSAFVETVKGLDYKAFKQIVESCGNFKVTKGKAKKGAWNIGEQKSILSPLYAFASEAARVVRSIFSRTLETAQNSVRVLQKAAITILDGISQYSLRLIDAMMFTSDLATNNLVVMAYITGGVVQLTSQWLTNIFGTVYEKLKPVLDWLEEKFKEGVEFLRDGWEIVKFISTCACEIVGGQIVTCAKEIKESVQTFFKLVNKFLALCADSIIIGGAKLKALNLGETFVTHSKGLYRKCVKSREETGLLMPLKAPKEIIFLEGETLPTEVLTEEVVLKTGDLQPLEQPTSEAVEAPLVGTPVCINGLMLLEIKDTEKYCALAPNMMVTNNTFTLKGGAPTKVTFGDDTVIEVQGYKSVNITFELDERIDKVLNEKCSAYTVELGTEVNEFACVVADAVIKTLQPVSELLTPLGIDLDEWSMATYYLFDESGEFKLASHMYCSFYPPDEDEEEGDCEEEEFEPSTQYEYGTEDDYQGKPLEFGATSAALQPEEEQEEDWLDDDSQQTVGQQDGSEDNQTTTIQTIVEVQPQLEMELTPVVQTIEVNSFSGYLKLTDNVYIKNADIVEEAKKVKPTVVVNAANVYLKHGGGVAGALNKATNNAMQVESDDYIATNGPLKVGGSCVLSGHNLAKHCLHVVGPNVNKGEDIQLLKSAYENFNQHEVLLAPLLSAGIFGADPIHSLRVCVDTVRTNVYLAVFDKNLYDKLVSSFLEMKSEKQVEQKIAEIPKEEVKPFITESKPSVEQRKQDDKKIKACVEEVTTTLEETKFLTENLLLYIDINGNLHPDSATLVSDIDITFLKKDAPYIVGDVVQEGVLTAVVIPTKKAGGTTEMLAKALRKVPTDNYITTYPGQGLNGYTVEEAKTVLKKCKSAFYILPSIISNEKQEILGTVSWNLREMLAHAEETRKLMPVCVETKAIVSTIQRKYKGIKIQEGVVDYGARFYFYTSKTTVASLINTLNDLNETLVTMPLGYVTHGLNLEEAARYMRSLKVPATVSVSSPDAVTAYNGYLTSSSKTPEEHFIETISLAGSYKDWSYSGQSTQLGIEFLKRGDKSVYYTSNPTTFHLDGEVITFDNLKTLLSLREVRTIKVFTTVDNINLHTQVVDMSMTYGQQFGPTYLDGADVTKIKPHNSHEGKTFYVLPNDDTLRVEAFEYYHTTDPSFLGRYMSALNHTKKWKYPQVNGLTSIKWADNNCYLATALLTLQQIELKFNPPALQDAYYRARAGEAANFCALILAYCNKTVGELGDVRETMSYLFQHANLDSCKRVLNVVCKTCGQQQTTLKGVEAVMYMGTLSYEQFKKGVQIPCTCGKQATKYLVQQESPFVMMSAPPAQYELKHGTFTCASEYTGNYQCGHYKHITSKETLYCIDGALLTKSSEYKGPITDVFYKENSYTTTIKPVTYKLDGVVCTEIDPKLDNYYKKDNSYFTEQPIDLVPNQPYPNASFDNFKFVCDNIKFADDLNQLTGYKKPASRELKVTFFPDLNGDVVAIDYKHYTPSFKKGAKLLHKPIVWHVNNATNKATYKPNTWCIRCLWSTKPVETSNSFDVLKSEDAQGMDNLACEDLKPVSEEVVENPTIQKDVLECNVKTTEVVGDIILKPANNSLKITEEVGHTDLMAAYVDNSSLTIKKPNELSRVLGLKTLATHGLAAVNSVPWDTIANYAKPFLNKVVSTTTNIVTRCLNRVCTNYMPYFFTLLLQLCTFTRSTNSRIKASMPTTIAKNTVKSVGKFCLEASFNYLKSPNFSKLINIIIWFLLLSVCLGSLIYSTAALGVLMSNLGMPSYCTGYREGYLNSTNVTIATYCTGSIPCSVCLSGLDSLDTYPSLETIQITISSFKWDLTAFGLVAEWFLAYILFTRFFYVLGLAAIMQLFFSYFAVHFISNSWLMWLIINLVQMAPISAMVRMYIFFASFYYVWKSYVHVVDGCNSSTCMMCYKRNRATRVECTTIVNGVRRSFYVYANGGKGFCKLHNWNCVNCDTFCAGSTFISDEVARDLSLQFKRPINPTDQSSYIVDSVTVKNGSIHLYFDKAGQKTYERHSLSHFVNLDNLRANNTKGSLPINVIVFDGKSKCEESSAKSASVYYSQLMCQPILLLDQALVSDVGDSAEVAVKMFDAYVNTFSSTFNVPMEKLKTLVATAEAELAKNVSLDNVLSTFISAARQGFVDSDVETKDVVECLKLSHQSDIEVTGDSCNNYMLTYNKVENMTPRDLGACIDCSARHINAQVAKSHNIALIWNVKDFMSLSEQLRKQIRSAAKKNNLPFKLTCATTRQVVNVVTTKIALKGGKIVNNWLKQLIKVTLVFLFVAAIFYLITPVHVMSKHTDFSSEIIGYKAIDGGVTRDIASTDTCFANKHADFDTWFSQRGGSYTNDKACPLIAAVITREVGFVVPGLPGTILRTTNGDFLHFLPRVFSAVGNICYTPSKLIEYTDFATSACVLAAECTIFKDASGKPVPYCYDTNVLEGSVAYESLRPDTRYVLMDGSIIQFPNTYLEGSVRVVTTFDSEYCRHGTCERSEAGVCVSTSGRWVLNNDYYRSLPGVFCGVDAVNLLTNMFTPLIQPIGALDISASIVAGGIVAIVVTCLAYYFMRFRRAFGEYSHVVAFNTLLFLMSFTVLCLTPVYSFLPGVYSVIYLYLTFYLTNDVSFLAHIQWMVMFTPLVPFWITIAYIICISTKHFYWFFSNYLKRRVVFNGVSFSTFEEAALCTFLLNKEMYLKLRSDVLLPLTQYNRYLALYNKYKYFSGAMDTTSYREAACCHLAKALNDFSNSGSDVLYQPPQTSITSAVLQSGFRKMAFPSGKVEGCMVQVTCGTTTLNGLWLDDVVYCPRHVICTSEDMLNPNYEDLLIRKSNHNFLVQAGNVQLRVIGHSMQNCVLKLKVDTANPKTPKYKFVRIQPGQTFSVLACYNGSPSGVYQCAMRPNFTIKGSFLNGSCGSVGFNIDYDCVSFCYMHHMELPTGVHAGTDLEGNFYGPFVDRQTAQAAGTDTTITVNVLAWLYAAVINGDRWFLNRFTTTLNDFNLVAMKYNYEPLTQDHVDILGPLSAQTGIAVLDMCASLKELLQNGMNGRTILGSALLEDEFTPFDVVRQCSGVTFQSAVKRTIKGTHHWLLLTILTSLLVLVQSTQWSLFFFLYENAFLPFAMGIIAMSAFAMMFVKHKHAFLCLFLLPSLATVAYFNMVYMPASWVMRIMTWLDMVDTSLSGFKLKDCVMYASAVVLLILMTARTVYDDGARRVWTLMNVLTLVYKVYYGNALDQAISMWALIISVTSNYSGVVTTVMFLARGIVFMCVEYCPIFFITGNTLQCIMLVYCFLGYFCTCYFGLFCLLNRYFRLTLGVYDYLVSTQEFRYMNSQGLLPPKNSIDAFKLNIKLLGVGGKPCIKVATVQSKMSDVKCTSVVLLSVLQQLRVESSSKLWAQCVQLHNDILLAKDTTEAFEKMVSLLSVLLSMQGAVDINKLCEEMLDNRATLQAIASEFSSLPSYAAFATAQEAYEQAVANGDSEVVLKKLKKSLNVAKSEFDRDAAMQRKLEKMADQAMTQMYKQARSEDKRAKVTSAMQTMLFTMLRKLDNDALNNIINNARDGCVPLNIIPLTTAAKLMVVIPDYNTYKNTCDGTTFTYASALWEIQQVVDADSKIVQLSEISMDNSPNLAWPLIVTALRANSAVKLQNNELSPVALRQMSCAAGTTQTACTDDNALAYYNTTKGGRFVLALLSDLQDLKWARFPKSDGTGTIYTELEPPCRFVTDTPKGPKVKYLYFIKGLNNLNRGMVLGSLAATVRLQAGNATEVPANSTVLSFCAFAVDAAKAYKDYLASGGQPITNCVKMLCTHTGTGQAITVTPEANMDQESFGGASCCLYCRCHIDHPNPKGFCDLKGKYVQIPTTCANDPVGFTLKNTVCTVCGMWKGYGCSCDQLREPMLQSADAQSFLNRVCGVSAARLTPCGTGTSTDVVYRAFDIYNDKVAGFAKFLKTNCCRFQEKDEDDNLIDSYFVVKRHTFSNYQHEETIYNLLKDCPAVAKHDFFKFRIDGDMVPHISRQRLTKYTMADLVYALRHFDEGNCDTLKEILVTYNCCDDDYFNKKDWYDFVENPDILRVYANLGERVRQALLKTVQFCDAMRNAGIVGVLTLDNQDLNGNWYDFGDFIQTTPGSGVPVVDSYYSLLMPILTLTRALTAESHVDTDLTKPYIKWDLLKYDFTEERLKLFDRYFKYWDQTYHPNCVNCLDDRCILHCANFNVLFSTVFPPTSFGPLVRKIFVDGVPFVVSTGYHFRELGVVHNQDVNLHSSRLSFKELLVYAADPAMHAASGNLLLDKRTTCFSVAALTNNVAFQTVKPGNFNKDFYDFAVSKGFFKEGSSVELKHFFFAQDGNAAISDYDYYRYNLPTMCDIRQLLFVVEVVDKYFDCYDGGCINANQVIVNNLDKSAGFPFNKWGKARLYYDSMSYEDQDALFAYTKRNVIPTITQMNLKYAISAKNRARTVAGVSICSTMTNRQFHQKLLKSIAATRGATVVIGTSKFYGGWHNMLKTVYSDVENPHLMGWDYPKCDRAMPNMLRIMASLVLARKHTTCCSLSHRFYRLANECAQVLSEMVMCGGSLYVKPGGTSSGDATTAYANSVFNICQAVTANVNALLSTDGNKIADKYVRNLQHRLYECLYRNRDVDTDFVNEFYAYLRKHFSMMILSDDAVVCFNSTYASQGLVASIKNFKSVLYYQNNVFMSEAKCWTETDLTKGPHEFCSQHTMLVKQGDDYVYLPYPDPSRILGAGCFVDDIVKTDGTLMIERFVSLAIDAYPLTKHPNQEYADVFHLYLQYIRKLHDELTGHMLDMYSVMLTNDNTSRYWEPEFYEAMYTPHTVLQAVGACVLCNSQTSLRCGACIRRPFLCCKCCYDHVISTSHKLVLSVNPYVCNAPGCDVTDVTQLYLGGMSYYCKSHKPPISFPLCANGQVFGLYKNTCVGSDNVTDFNAIATCDWTNAGDYILANTCTERLKLFAAETLKATEETFKLSYGIATVREVLSDRELHLSWEVGKPRPPLNRNYVFTGYRVTKNSKVQIGEYTFEKGDYGDAVVYRGTTTYKLNVGDYFVLTSHTVMPLSAPTLVPQEHYVRITGLYPTLNISDEFSSNVANYQKVGMQKYSTLQGPPGTGKSHFAIGLALYYPSARIVYTACSHAAVDALCEKALKYLPIDKCSRIIPARARVECFDKFKVNSTLEQYVFCTVNALPETTADIVVFDEISMATNYDLSVVNARLRAKHYVYIGDPAQLPAPRTLLTKGTLEPEYFNSVCRLMKTIGPDMFLGTCRRCPAEIVDTVSALVYDNKLKAHKDKSAQCFKMFYKGVITHDVSSAINRPQIGVVREFLTRNPAWRKAVFISPYNSQNAVASKILGLPTQTVDSSQGSEYDYVIFTQTTETAHSCNVNRFNVAITRAKVGILCIMSDRDLYDKLQFTSLEIPRRNVATLQAENVTGLFKDCSKVITGLHPTQAPTHLSVDTKFKTEGLCVDIPGIPKDMTYRRLISMMGFKMNYQVNGYPNMFITREEAIRHVRAWIGFDVEGCHATREAVGTNLPLQLGFSTGVNLVAVPTGYVDTPNNTDFSRVSAKPPPGDQFKHLIPLMYKGLPWNVVRIKIVQMLSDTLKNLSDRVVFVLWAHGFELTSMKYFVKIGPERTCCLCDRRATCFSTASDTYACWHHSIGFDYVYNPFMIDVQQWGFTGNLQSNHDLYCQVHGNAHVASCDAIMTRCLAVHECFVKRVDWTIEYPIIGDELKINAACRKVQHMVVKAALLADKFPVLHDIGNPKAIKCVPQADVEWKFYDAQPCSDKAYKIEELFYSYATHSDKFTDGVCLFWNCNVDRYPANSIVCRFDTRVLSNLNLPGCDGGSLYVNKHAFHTPAFDKSAFVNLKQLPFFYYSDSPCESHGKQVVSDIDYVPLKSATCITRCNLGGAVCRHHANEYRLYLDAYNMMISAGFSLWVYKQFDTYNLWNTFTRLQSLENVAFNVVNKGHFDGQQGEVPVSIINNTVYTKVDGVDVELFENKTTLPVNVAFELWAKRNIKPVPEVKILNNLGVDIAANTVIWDYKRDAPAHISTIGVCSMTDIAKKPTETICAPLTVFFDGRVDGQVDLFRNARNGVLITEGSVKGLQPSVGPKQASLNGVTLIGEAVKTQFNYYKKVDGVVQQLPETYFTQSRNLQEFKPRSQMEIDFLELAMDEFIERYKLEGYAFEHIVYGDFSHSQLGGLHLLIGLAKRFKESPFELEDFIPMDSTVKNYFITDAQTGSSKCVCSVIDLLLDDFVEIIKSQDLSVVSKVVKVTIDYTEISFMLWCKDGHVETFYPKLQSSQAWQPGVAMPNLYKMQRMLLEKCDLQNYGDSATLPKGIMMNVAKYTQLCQYLNTLTLAVPYNMRVIHFGAGSDKGVAPGTAVLRQWLPTGTLLVDSDLNDFVSDADSTLIGDCATVHTANKWDLIISDMYDPKTKNVTKENDSKEGFFTYICGFIQQKLALGGSVAIKITEHSWNADLYKLMGHFAWWTAFVTNVNASSSEAFLIGCNYLGKPREQIDGYVMHANYIFWRNTNPIQLSSYSLFDMSKFPLKLRGTAVMSLKEGQINDMILSLLSKGRLIIRENNRVVISSDVLVNN']\")\n"
     ]
    }
   ],
   "source": [
    "print(\"Matched genes: \" + str(len(list(set(protein_gb).intersection(set(pep_ch))))))\n",
    "print(\"Unmatched genes: \" + str(list(set(protein_gb).difference(set(pep_ch)))))"
   ]
  },
  {
   "cell_type": "code",
   "execution_count": 200,
   "metadata": {},
   "outputs": [],
   "source": [
    "matched_gene = list(set(protein_gb).intersection(set(pep_ch)))"
   ]
  },
  {
   "cell_type": "markdown",
   "metadata": {},
   "source": [
    "### Now Lets see 3D view of each of the protein structure\n",
    "\n",
    "One of the cool thing I discovered that you can easily show the 3d structure of each protein sequence that I just translated and filtered. For this theres a web application from Swiss Institute of Bioinformatics: [Swiss Model](https://swissmodel.expasy.org/). All you need to do is:\n",
    "- copy the protein structure you want to build 3d model. \n",
    "- Go to [Swiss Model](https://swissmodel.expasy.org/) site\n",
    "- click **start modeling**\n",
    "- paste the sequence you copied and **validate** for errors\n",
    "- Click **build model** and **VOILA!**\n",
    "\n",
    "Now download the pdb model file from the left side of the model result dropdown. pdb is protein database format. used to store protein structure data. You can use any protein only limit is the length should be less than 5000. "
   ]
  },
  {
   "cell_type": "code",
   "execution_count": 237,
   "metadata": {},
   "outputs": [
    {
     "name": "stdout",
     "output_type": "stream",
     "text": [
      "'MKFLVFLGIITTVAAFHQECSLQSCTQHQPYVVDDPCPIHFYSKWYIRVGARKSAPLIELCVDEAGSKSPIQYIDIGNYTVSCLPFTINCQEPKLGSLVVRCSFYEDFLEYHDVRVVLDFI'\n"
     ]
    }
   ],
   "source": [
    "# first protein structure to copy\n",
    "print(matched_gene[0])"
   ]
  },
  {
   "cell_type": "markdown",
   "metadata": {},
   "source": [
    "To view the pdb file. There a package called NGL. It has a package that can view pdb file directly in jupyter notebook. I installed the required package from [here](https://github.com/arose/nglview). You need to jupyterlab installed from to use this. you can install it by ***\"pip install jupyterlab\"***"
   ]
  },
  {
   "cell_type": "code",
   "execution_count": 230,
   "metadata": {},
   "outputs": [
    {
     "data": {
      "application/vnd.jupyter.widget-view+json": {
       "model_id": "1285439fe05e42c6a629fd6902503d77",
       "version_major": 2,
       "version_minor": 0
      },
      "text/plain": [
       "NGLWidget()"
      ]
     },
     "metadata": {},
     "output_type": "display_data"
    }
   ],
   "source": [
    "import nglview\n",
    "# view the downloaded model file from the swiss model application\n",
    "show = nglview.show_file(\"model_01.pdb\")\n",
    "show"
   ]
  },
  {
   "cell_type": "code",
   "execution_count": 231,
   "metadata": {},
   "outputs": [
    {
     "data": {
      "application/vnd.jupyter.widget-view+json": {
       "model_id": "5dc4db5be6b946f1abbe78aa91bbff54",
       "version_major": 2,
       "version_minor": 0
      },
      "text/plain": [
       "Image(value=b'', width='99%')"
      ]
     },
     "metadata": {},
     "output_type": "display_data"
    }
   ],
   "source": [
    "show.render_image()"
   ]
  },
  {
   "cell_type": "code",
   "execution_count": 235,
   "metadata": {},
   "outputs": [
    {
     "data": {
      "application/vnd.jupyter.widget-view+json": {
       "model_id": "fd1f7e074b0b419bbb6424c32e46f109",
       "version_major": 2,
       "version_minor": 0
      },
      "text/plain": [
       "Image(value=b'', width='99%')"
      ]
     },
     "metadata": {},
     "output_type": "display_data"
    }
   ],
   "source": [
    "show.add_surface(selection=\"protein\", color=\"sstruc\")\n",
    "show.render_image()"
   ]
  },
  {
   "cell_type": "markdown",
   "metadata": {},
   "source": [
    "#### Its soooo coooool !!! "
   ]
  },
  {
   "cell_type": "code",
   "execution_count": null,
   "metadata": {},
   "outputs": [],
   "source": []
  }
 ],
 "metadata": {
  "kernelspec": {
   "display_name": "Python 3",
   "language": "python",
   "name": "python3"
  },
  "language_info": {
   "codemirror_mode": {
    "name": "ipython",
    "version": 3
   },
   "file_extension": ".py",
   "mimetype": "text/x-python",
   "name": "python",
   "nbconvert_exporter": "python",
   "pygments_lexer": "ipython3",
   "version": "3.7.4"
  }
 },
 "nbformat": 4,
 "nbformat_minor": 4
}
